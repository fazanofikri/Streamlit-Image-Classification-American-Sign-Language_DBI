{
 "cells": [
  {
   "cell_type": "code",
   "execution_count": 1,
   "id": "5906d1f5",
   "metadata": {},
   "outputs": [],
   "source": [
    "img_dir = 'D:/PORTOFOLIO/STREAMLIT/Final Project Image Classification DBI/asl_alphabet_train/asl_alphabet_train'"
   ]
  },
  {
   "cell_type": "code",
   "execution_count": 2,
   "id": "942d9650",
   "metadata": {},
   "outputs": [],
   "source": [
    "from keras.models import Sequential\n",
    "from keras.layers import Dense, Conv2D, MaxPool2D , Flatten\n",
    "from keras.preprocessing.image import ImageDataGenerator\n",
    "import keras\n",
    "import numpy as np\n",
    "import tensorflow as tf\n",
    "from tensorflow import keras\n",
    "from tensorflow.keras import layers\n",
    "import tensorflow_hub as hub\n",
    "import matplotlib.pyplot as plt"
   ]
  },
  {
   "cell_type": "code",
   "execution_count": 3,
   "id": "d3014316",
   "metadata": {},
   "outputs": [],
   "source": [
    "data_args = dict(rescale=1./255, validation_split=.30)"
   ]
  },
  {
   "cell_type": "code",
   "execution_count": 4,
   "id": "7a308e59",
   "metadata": {},
   "outputs": [
    {
     "name": "stdout",
     "output_type": "stream",
     "text": [
      "Found 69600 images belonging to 29 classes.\n",
      "Found 17400 images belonging to 29 classes.\n"
     ]
    }
   ],
   "source": [
    "bag_train = tf.keras.preprocessing.image.ImageDataGenerator(**data_args)\n",
    "\n",
    "train_gen = bag_train.flow_from_directory(\n",
    "img_dir,\n",
    "subset=\"training\",\n",
    "shuffle=True,\n",
    "target_size=(224, 224))\n",
    "\n",
    "\n",
    "bag_val = tf.keras.preprocessing.image.ImageDataGenerator(**data_args)\n",
    "\n",
    "val_gen = bag_val.flow_from_directory(\n",
    "img_dir,\n",
    "subset=\"validation\",\n",
    "shuffle=True,\n",
    "target_size=(224, 224))"
   ]
  },
  {
   "cell_type": "code",
   "execution_count": 5,
   "id": "e49ef863",
   "metadata": {},
   "outputs": [],
   "source": [
    "for image_batch, label_batch in train_gen:\n",
    "  break\n",
    "  image_batch.shape, label_batch.shape"
   ]
  },
  {
   "cell_type": "code",
   "execution_count": 6,
   "id": "3709cbcc",
   "metadata": {},
   "outputs": [
    {
     "name": "stdout",
     "output_type": "stream",
     "text": [
      "{'A': 0, 'B': 1, 'C': 2, 'D': 3, 'E': 4, 'F': 5, 'G': 6, 'H': 7, 'I': 8, 'J': 9, 'K': 10, 'L': 11, 'M': 12, 'N': 13, 'O': 14, 'P': 15, 'Q': 16, 'R': 17, 'S': 18, 'T': 19, 'U': 20, 'V': 21, 'W': 22, 'X': 23, 'Y': 24, 'Z': 25, 'del': 26, 'nothing': 27, 'space': 28}\n"
     ]
    }
   ],
   "source": [
    "print (train_gen.class_indices)"
   ]
  },
  {
   "cell_type": "code",
   "execution_count": 7,
   "id": "f2197b7a",
   "metadata": {},
   "outputs": [
    {
     "name": "stdout",
     "output_type": "stream",
     "text": [
      "Model: \"sequential\"\n",
      "_________________________________________________________________\n",
      " Layer (type)                Output Shape              Param #   \n",
      "=================================================================\n",
      " keras_layer (KerasLayer)    (None, 1280)              2257984   \n",
      "                                                                 \n",
      " dropout (Dropout)           (None, 1280)              0         \n",
      "                                                                 \n",
      " dense (Dense)               (None, 29)                37149     \n",
      "                                                                 \n",
      "=================================================================\n",
      "Total params: 2,295,133\n",
      "Trainable params: 37,149\n",
      "Non-trainable params: 2,257,984\n",
      "_________________________________________________________________\n"
     ]
    }
   ],
   "source": [
    "base_model = tf.keras.Sequential([\n",
    " hub.KerasLayer(\"https://tfhub.dev/google/tf2-preview/mobilenet_v2/feature_vector/4\",\n",
    " trainable=False),\n",
    " tf.keras.layers.Dropout(0.2),\n",
    " tf.keras.layers.Dense(train_gen.num_classes, activation='softmax')\n",
    "])\n",
    "base_model.build([None, 224, 224, 3])\n",
    "base_model.summary()"
   ]
  },
  {
   "cell_type": "code",
   "execution_count": 8,
   "id": "845aea4c",
   "metadata": {},
   "outputs": [],
   "source": [
    "base_model.compile(\n",
    " optimizer='adam',\n",
    " loss= 'categorical_crossentropy',\n",
    " metrics=['accuracy'])"
   ]
  },
  {
   "cell_type": "code",
   "execution_count": 9,
   "id": "cbaaf33b",
   "metadata": {
    "scrolled": true
   },
   "outputs": [
    {
     "name": "stdout",
     "output_type": "stream",
     "text": [
      "Epoch 1/5\n",
      "2175/2175 [==============================] - 2573s 1s/step - loss: 0.2926 - accuracy: 0.9311 - val_loss: 0.4767 - val_accuracy: 0.8599\n",
      "Epoch 2/5\n",
      "2175/2175 [==============================] - 2449s 1s/step - loss: 0.0566 - accuracy: 0.9866 - val_loss: 0.4520 - val_accuracy: 0.8661\n",
      "Epoch 3/5\n",
      "2175/2175 [==============================] - 6222s 3s/step - loss: 0.0368 - accuracy: 0.9904 - val_loss: 0.4295 - val_accuracy: 0.8842\n",
      "Epoch 4/5\n",
      "2175/2175 [==============================] - 3000s 1s/step - loss: 0.0283 - accuracy: 0.9920 - val_loss: 0.4472 - val_accuracy: 0.8790\n",
      "Epoch 5/5\n",
      "2175/2175 [==============================] - 2873s 1s/step - loss: 0.0236 - accuracy: 0.9930 - val_loss: 0.4613 - val_accuracy: 0.8778\n"
     ]
    }
   ],
   "source": [
    "epochs=5\n",
    "history = base_model.fit(train_gen, \n",
    "                         validation_data = val_gen,\n",
    "                         batch_size=32,\n",
    "                         epochs = epochs)"
   ]
  },
  {
   "cell_type": "code",
   "execution_count": 11,
   "id": "1d132951",
   "metadata": {},
   "outputs": [],
   "source": [
    "base_model.save_weights('base_model_weights.h5')\n",
    "base_model.save('base_model.h5')"
   ]
  },
  {
   "cell_type": "code",
   "execution_count": 13,
   "id": "82b8dc57",
   "metadata": {},
   "outputs": [],
   "source": [
    "import pandas as pd"
   ]
  },
  {
   "cell_type": "code",
   "execution_count": 14,
   "id": "eab8842f",
   "metadata": {},
   "outputs": [
    {
     "data": {
      "image/png": "[encoded data removed]",
      "text/plain": [
       "<Figure size 432x288 with 1 Axes>"
      ]
     },
     "metadata": {
      "needs_background": "light"
     },
     "output_type": "display_data"
    }
   ],
   "source": [
    "pd.DataFrame(history.history)[['accuracy','val_accuracy']].plot()\n",
    "plt.title(\"Accuracy\")\n",
    "plt.show()"
   ]
  },
  {
   "cell_type": "code",
   "execution_count": 15,
   "id": "50dbb95b",
   "metadata": {},
   "outputs": [
    {
     "data": {
      "image/png": "[encoded data removed]",
      "text/plain": [
       "<Figure size 432x288 with 1 Axes>"
      ]
     },
     "metadata": {
      "needs_background": "light"
     },
     "output_type": "display_data"
    }
   ],
   "source": [
    "pd.DataFrame(history.history)[['loss','val_loss']].plot()\n",
    "plt.title(\"Loss\")\n",
    "plt.show()"
   ]
  },
  {
   "cell_type": "code",
   "execution_count": null,
   "id": "c04f7bc0",
   "metadata": {},
   "outputs": [],
   "source": []
  }
 ],
 "metadata": {
  "kernelspec": {
   "display_name": "Python 3",
   "language": "python",
   "name": "python3"
  },
  "language_info": {
   "codemirror_mode": {
    "name": "ipython",
    "version": 3
   },
   "file_extension": ".py",
   "mimetype": "text/x-python",
   "name": "python",
   "nbconvert_exporter": "python",
   "pygments_lexer": "ipython3",
   "version": "3.8.8"
  }
 },
 "nbformat": 4,
 "nbformat_minor": 5
}
